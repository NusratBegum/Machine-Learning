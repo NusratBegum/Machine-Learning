{
  "nbformat": 4,
  "nbformat_minor": 0,
  "metadata": {
    "colab": {
      "provenance": [],
      "authorship_tag": "ABX9TyOx+UXj047hOiHzQXRLykzx",
      "include_colab_link": true
    },
    "kernelspec": {
      "name": "python3",
      "display_name": "Python 3"
    },
    "language_info": {
      "name": "python"
    }
  },
  "cells": [
    {
      "cell_type": "markdown",
      "metadata": {
        "id": "view-in-github",
        "colab_type": "text"
      },
      "source": [
        "<a href=\"https://colab.research.google.com/github/NusratBegum/Machine-Learning/blob/main/Machine_Learning_Homework_1_2.ipynb\" target=\"_parent\"><img src=\"https://colab.research.google.com/assets/colab-badge.svg\" alt=\"Open In Colab\"/></a>"
      ]
    },
    {
      "cell_type": "markdown",
      "source": [
        "#Exercise: Linear Regression with Python\n",
        "##Repeat the linear regression work by Andrew Ng below by using the Salary Dataset from Kaggle.Submit Jupyter Notebook (.ipynb) file\n",
        "\n",
        "##Andrew Ng code:\n",
        "https://github.com/michaelmorr82/Machine-Learning-Coursera-Andrew-Ng/blob/master/Exercises/Assignment%201%20-%20Linear%20regression/ex1%20-%20Python/Exercise%201%20-%20Linear%20Regression.ipynb\n",
        "\n",
        "##Salary Dataset:\n",
        "https://www.kaggle.com/datasets/abhishek14398/salary-dataset-simple-linear-regression"
      ],
      "metadata": {
        "id": "kNqnJeyqIZjb"
      }
    },
    {
      "cell_type": "code",
      "source": [],
      "metadata": {
        "id": "e_MfDu4P5FfT"
      },
      "execution_count": null,
      "outputs": []
    },
    {
      "cell_type": "code",
      "execution_count": null,
      "metadata": {
        "id": "v7r67ErlHDjQ"
      },
      "outputs": [],
      "source": [
        "!pip install opendatasets --upgrade --quiet\n",
        "import opendatasets as od\n",
        "\n",
        "od.download(\"https://www.kaggle.com/datasets/abhishek14398/salary-dataset-simple-linear-regression\")\n",
        "\n",
        "data_path = \"/kaggle/datasets/abhishek14398/salary-dataset-simple-linear-regression\"\n",
        "\n",
        "import pandas as pd\n",
        "\n",
        "df = pd.read_csv(data_path + \"/Salary_Data.csv\")\n",
        "\n",
        "df.head()\n"
      ]
    }
  ]
}