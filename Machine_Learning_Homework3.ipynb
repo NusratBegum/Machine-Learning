{
  "nbformat": 4,
  "nbformat_minor": 0,
  "metadata": {
    "colab": {
      "provenance": [],
      "authorship_tag": "ABX9TyNXWJ20QSs8TEFzrp/wgpF4",
      "include_colab_link": true
    },
    "kernelspec": {
      "name": "python3",
      "display_name": "Python 3"
    },
    "language_info": {
      "name": "python"
    }
  },
  "cells": [
    {
      "cell_type": "markdown",
      "metadata": {
        "id": "view-in-github",
        "colab_type": "text"
      },
      "source": [
        "<a href=\"https://colab.research.google.com/github/NusratBegum/Machine-Learning/blob/main/Machine_Learning_Homework3.ipynb\" target=\"_parent\"><img src=\"https://colab.research.google.com/assets/colab-badge.svg\" alt=\"Open In Colab\"/></a>"
      ]
    },
    {
      "cell_type": "markdown",
      "source": [
        "# Homework 3.1\n",
        "Continuing from homework 1, use the ‘Salary’ dataset from Kaggle and ‘ext1data.txt’ dataset from Andrew Ng’s Exercise 1 and perform simple linear regression. Modify the gradient descent function such that it supports ridge regression.\n",
        "\n",
        "See guideline from Andrew Ng’s code (Exercise 5 - Python)\n",
        "https://github.com/michaelmorr82/Machine-Learning-Coursera-Andrew-Ng/blob/master/Exercises/Assignment%205%20-%20%20Regularized%20Linear%20Regression%20and%20Bias%20v.s.%20Variance/ex5%20-%20Python/Exercise%205%20-%20Regularized%20Linear%20Regression.ipynb\n",
        "\n",
        "Salary Dataset:\n",
        "https://www.kaggle.com/datasets/abhishek14398/salary-dataset-simple-linear-regression\n",
        "\n",
        "Submit your .ipynb file to show your work."
      ],
      "metadata": {
        "id": "U22ggC08qGRa"
      }
    },
    {
      "cell_type": "code",
      "execution_count": 34,
      "metadata": {
        "id": "S8uOCYmeplby"
      },
      "outputs": [],
      "source": [
        "# We want to make sure that our python environment installs the opendatasets library to use it as import module.\n",
        "# Using Python Package Installer (pip) to make sure we install this in the environment first\n",
        "!pip install opendatasets --upgrade --quiet\n",
        "\n",
        "# Importing Important Libraries\n",
        "import opendatasets as od # opendatasets for downloading kaggle datasets\n",
        "import pandas as pd # for data structuring and data analysis tools\n",
        "import numpy as np # # Scientific and vector computation for python\n",
        "import matplotlib.pyplot as plt #2-d plotting\n",
        "import matplotlib.cm as cm #Used to display images in a specific colormap\n",
        "from scipy.io import loadmat\n",
        "from scipy.optimize import minimize\n",
        "import statistics as stat\n",
        "import sympy\n",
        "from mpl_toolkits.mplot3d import axes3d # 3 d plots\n",
        "import seaborn as sns # statistical data visualisation\n",
        "from sympy.abc import theta"
      ]
    },
    {
      "cell_type": "code",
      "source": [
        "# opendatasets library will downlod a .zip file and unzip it\n",
        "od.download(\"https://www.kaggle.com/datasets/abhishek14398/salary-dataset-simple-linear-regression\")\n",
        "# declare the directory where the data will be download in colab\n",
        "data_path = \"/content/salary-dataset-simple-linear-regression\"\n",
        "# Pandas Reading the csv file\n",
        "df = pd.read_csv(data_path + \"/Salary_dataset.csv\")\n",
        "# Checking first few rows\n",
        "df.head()"
      ],
      "metadata": {
        "colab": {
          "base_uri": "https://localhost:8080/",
          "height": 223
        },
        "id": "03FuPrHhVy8o",
        "outputId": "cecdfe11-b313-45e8-a0d3-c0721cc29b5a"
      },
      "execution_count": 35,
      "outputs": [
        {
          "output_type": "stream",
          "name": "stdout",
          "text": [
            "Skipping, found downloaded files in \"./salary-dataset-simple-linear-regression\" (use force=True to force download)\n"
          ]
        },
        {
          "output_type": "execute_result",
          "data": {
            "text/plain": [
              "   Unnamed: 0  YearsExperience   Salary\n",
              "0           0              1.2  39344.0\n",
              "1           1              1.4  46206.0\n",
              "2           2              1.6  37732.0\n",
              "3           3              2.1  43526.0\n",
              "4           4              2.3  39892.0"
            ],
            "text/html": [
              "\n",
              "  <div id=\"df-db3125a3-7dc3-44f0-bf1a-1b81a783e7b1\" class=\"colab-df-container\">\n",
              "    <div>\n",
              "<style scoped>\n",
              "    .dataframe tbody tr th:only-of-type {\n",
              "        vertical-align: middle;\n",
              "    }\n",
              "\n",
              "    .dataframe tbody tr th {\n",
              "        vertical-align: top;\n",
              "    }\n",
              "\n",
              "    .dataframe thead th {\n",
              "        text-align: right;\n",
              "    }\n",
              "</style>\n",
              "<table border=\"1\" class=\"dataframe\">\n",
              "  <thead>\n",
              "    <tr style=\"text-align: right;\">\n",
              "      <th></th>\n",
              "      <th>Unnamed: 0</th>\n",
              "      <th>YearsExperience</th>\n",
              "      <th>Salary</th>\n",
              "    </tr>\n",
              "  </thead>\n",
              "  <tbody>\n",
              "    <tr>\n",
              "      <th>0</th>\n",
              "      <td>0</td>\n",
              "      <td>1.2</td>\n",
              "      <td>39344.0</td>\n",
              "    </tr>\n",
              "    <tr>\n",
              "      <th>1</th>\n",
              "      <td>1</td>\n",
              "      <td>1.4</td>\n",
              "      <td>46206.0</td>\n",
              "    </tr>\n",
              "    <tr>\n",
              "      <th>2</th>\n",
              "      <td>2</td>\n",
              "      <td>1.6</td>\n",
              "      <td>37732.0</td>\n",
              "    </tr>\n",
              "    <tr>\n",
              "      <th>3</th>\n",
              "      <td>3</td>\n",
              "      <td>2.1</td>\n",
              "      <td>43526.0</td>\n",
              "    </tr>\n",
              "    <tr>\n",
              "      <th>4</th>\n",
              "      <td>4</td>\n",
              "      <td>2.3</td>\n",
              "      <td>39892.0</td>\n",
              "    </tr>\n",
              "  </tbody>\n",
              "</table>\n",
              "</div>\n",
              "    <div class=\"colab-df-buttons\">\n",
              "\n",
              "  <div class=\"colab-df-container\">\n",
              "    <button class=\"colab-df-convert\" onclick=\"convertToInteractive('df-db3125a3-7dc3-44f0-bf1a-1b81a783e7b1')\"\n",
              "            title=\"Convert this dataframe to an interactive table.\"\n",
              "            style=\"display:none;\">\n",
              "\n",
              "  <svg xmlns=\"http://www.w3.org/2000/svg\" height=\"24px\" viewBox=\"0 -960 960 960\">\n",
              "    <path d=\"M120-120v-720h720v720H120Zm60-500h600v-160H180v160Zm220 220h160v-160H400v160Zm0 220h160v-160H400v160ZM180-400h160v-160H180v160Zm440 0h160v-160H620v160ZM180-180h160v-160H180v160Zm440 0h160v-160H620v160Z\"/>\n",
              "  </svg>\n",
              "    </button>\n",
              "\n",
              "  <style>\n",
              "    .colab-df-container {\n",
              "      display:flex;\n",
              "      gap: 12px;\n",
              "    }\n",
              "\n",
              "    .colab-df-convert {\n",
              "      background-color: #E8F0FE;\n",
              "      border: none;\n",
              "      border-radius: 50%;\n",
              "      cursor: pointer;\n",
              "      display: none;\n",
              "      fill: #1967D2;\n",
              "      height: 32px;\n",
              "      padding: 0 0 0 0;\n",
              "      width: 32px;\n",
              "    }\n",
              "\n",
              "    .colab-df-convert:hover {\n",
              "      background-color: #E2EBFA;\n",
              "      box-shadow: 0px 1px 2px rgba(60, 64, 67, 0.3), 0px 1px 3px 1px rgba(60, 64, 67, 0.15);\n",
              "      fill: #174EA6;\n",
              "    }\n",
              "\n",
              "    .colab-df-buttons div {\n",
              "      margin-bottom: 4px;\n",
              "    }\n",
              "\n",
              "    [theme=dark] .colab-df-convert {\n",
              "      background-color: #3B4455;\n",
              "      fill: #D2E3FC;\n",
              "    }\n",
              "\n",
              "    [theme=dark] .colab-df-convert:hover {\n",
              "      background-color: #434B5C;\n",
              "      box-shadow: 0px 1px 3px 1px rgba(0, 0, 0, 0.15);\n",
              "      filter: drop-shadow(0px 1px 2px rgba(0, 0, 0, 0.3));\n",
              "      fill: #FFFFFF;\n",
              "    }\n",
              "  </style>\n",
              "\n",
              "    <script>\n",
              "      const buttonEl =\n",
              "        document.querySelector('#df-db3125a3-7dc3-44f0-bf1a-1b81a783e7b1 button.colab-df-convert');\n",
              "      buttonEl.style.display =\n",
              "        google.colab.kernel.accessAllowed ? 'block' : 'none';\n",
              "\n",
              "      async function convertToInteractive(key) {\n",
              "        const element = document.querySelector('#df-db3125a3-7dc3-44f0-bf1a-1b81a783e7b1');\n",
              "        const dataTable =\n",
              "          await google.colab.kernel.invokeFunction('convertToInteractive',\n",
              "                                                    [key], {});\n",
              "        if (!dataTable) return;\n",
              "\n",
              "        const docLinkHtml = 'Like what you see? Visit the ' +\n",
              "          '<a target=\"_blank\" href=https://colab.research.google.com/notebooks/data_table.ipynb>data table notebook</a>'\n",
              "          + ' to learn more about interactive tables.';\n",
              "        element.innerHTML = '';\n",
              "        dataTable['output_type'] = 'display_data';\n",
              "        await google.colab.output.renderOutput(dataTable, element);\n",
              "        const docLink = document.createElement('div');\n",
              "        docLink.innerHTML = docLinkHtml;\n",
              "        element.appendChild(docLink);\n",
              "      }\n",
              "    </script>\n",
              "  </div>\n",
              "\n",
              "\n",
              "<div id=\"df-cd03f0f2-1d67-40a8-b332-35655b1218fd\">\n",
              "  <button class=\"colab-df-quickchart\" onclick=\"quickchart('df-cd03f0f2-1d67-40a8-b332-35655b1218fd')\"\n",
              "            title=\"Suggest charts\"\n",
              "            style=\"display:none;\">\n",
              "\n",
              "<svg xmlns=\"http://www.w3.org/2000/svg\" height=\"24px\"viewBox=\"0 0 24 24\"\n",
              "     width=\"24px\">\n",
              "    <g>\n",
              "        <path d=\"M19 3H5c-1.1 0-2 .9-2 2v14c0 1.1.9 2 2 2h14c1.1 0 2-.9 2-2V5c0-1.1-.9-2-2-2zM9 17H7v-7h2v7zm4 0h-2V7h2v10zm4 0h-2v-4h2v4z\"/>\n",
              "    </g>\n",
              "</svg>\n",
              "  </button>\n",
              "\n",
              "<style>\n",
              "  .colab-df-quickchart {\n",
              "      --bg-color: #E8F0FE;\n",
              "      --fill-color: #1967D2;\n",
              "      --hover-bg-color: #E2EBFA;\n",
              "      --hover-fill-color: #174EA6;\n",
              "      --disabled-fill-color: #AAA;\n",
              "      --disabled-bg-color: #DDD;\n",
              "  }\n",
              "\n",
              "  [theme=dark] .colab-df-quickchart {\n",
              "      --bg-color: #3B4455;\n",
              "      --fill-color: #D2E3FC;\n",
              "      --hover-bg-color: #434B5C;\n",
              "      --hover-fill-color: #FFFFFF;\n",
              "      --disabled-bg-color: #3B4455;\n",
              "      --disabled-fill-color: #666;\n",
              "  }\n",
              "\n",
              "  .colab-df-quickchart {\n",
              "    background-color: var(--bg-color);\n",
              "    border: none;\n",
              "    border-radius: 50%;\n",
              "    cursor: pointer;\n",
              "    display: none;\n",
              "    fill: var(--fill-color);\n",
              "    height: 32px;\n",
              "    padding: 0;\n",
              "    width: 32px;\n",
              "  }\n",
              "\n",
              "  .colab-df-quickchart:hover {\n",
              "    background-color: var(--hover-bg-color);\n",
              "    box-shadow: 0 1px 2px rgba(60, 64, 67, 0.3), 0 1px 3px 1px rgba(60, 64, 67, 0.15);\n",
              "    fill: var(--button-hover-fill-color);\n",
              "  }\n",
              "\n",
              "  .colab-df-quickchart-complete:disabled,\n",
              "  .colab-df-quickchart-complete:disabled:hover {\n",
              "    background-color: var(--disabled-bg-color);\n",
              "    fill: var(--disabled-fill-color);\n",
              "    box-shadow: none;\n",
              "  }\n",
              "\n",
              "  .colab-df-spinner {\n",
              "    border: 2px solid var(--fill-color);\n",
              "    border-color: transparent;\n",
              "    border-bottom-color: var(--fill-color);\n",
              "    animation:\n",
              "      spin 1s steps(1) infinite;\n",
              "  }\n",
              "\n",
              "  @keyframes spin {\n",
              "    0% {\n",
              "      border-color: transparent;\n",
              "      border-bottom-color: var(--fill-color);\n",
              "      border-left-color: var(--fill-color);\n",
              "    }\n",
              "    20% {\n",
              "      border-color: transparent;\n",
              "      border-left-color: var(--fill-color);\n",
              "      border-top-color: var(--fill-color);\n",
              "    }\n",
              "    30% {\n",
              "      border-color: transparent;\n",
              "      border-left-color: var(--fill-color);\n",
              "      border-top-color: var(--fill-color);\n",
              "      border-right-color: var(--fill-color);\n",
              "    }\n",
              "    40% {\n",
              "      border-color: transparent;\n",
              "      border-right-color: var(--fill-color);\n",
              "      border-top-color: var(--fill-color);\n",
              "    }\n",
              "    60% {\n",
              "      border-color: transparent;\n",
              "      border-right-color: var(--fill-color);\n",
              "    }\n",
              "    80% {\n",
              "      border-color: transparent;\n",
              "      border-right-color: var(--fill-color);\n",
              "      border-bottom-color: var(--fill-color);\n",
              "    }\n",
              "    90% {\n",
              "      border-color: transparent;\n",
              "      border-bottom-color: var(--fill-color);\n",
              "    }\n",
              "  }\n",
              "</style>\n",
              "\n",
              "  <script>\n",
              "    async function quickchart(key) {\n",
              "      const quickchartButtonEl =\n",
              "        document.querySelector('#' + key + ' button');\n",
              "      quickchartButtonEl.disabled = true;  // To prevent multiple clicks.\n",
              "      quickchartButtonEl.classList.add('colab-df-spinner');\n",
              "      try {\n",
              "        const charts = await google.colab.kernel.invokeFunction(\n",
              "            'suggestCharts', [key], {});\n",
              "      } catch (error) {\n",
              "        console.error('Error during call to suggestCharts:', error);\n",
              "      }\n",
              "      quickchartButtonEl.classList.remove('colab-df-spinner');\n",
              "      quickchartButtonEl.classList.add('colab-df-quickchart-complete');\n",
              "    }\n",
              "    (() => {\n",
              "      let quickchartButtonEl =\n",
              "        document.querySelector('#df-cd03f0f2-1d67-40a8-b332-35655b1218fd button');\n",
              "      quickchartButtonEl.style.display =\n",
              "        google.colab.kernel.accessAllowed ? 'block' : 'none';\n",
              "    })();\n",
              "  </script>\n",
              "</div>\n",
              "\n",
              "    </div>\n",
              "  </div>\n"
            ]
          },
          "metadata": {},
          "execution_count": 35
        }
      ]
    },
    {
      "cell_type": "code",
      "source": [
        "# We do not need first column as it only shows index number\n",
        "df = df.iloc[:, 1:]\n",
        "df.head()"
      ],
      "metadata": {
        "colab": {
          "base_uri": "https://localhost:8080/",
          "height": 206
        },
        "id": "MUs6Q0lEXJZN",
        "outputId": "768213e4-78d9-4501-c2af-c2ed639afff6"
      },
      "execution_count": 36,
      "outputs": [
        {
          "output_type": "execute_result",
          "data": {
            "text/plain": [
              "   YearsExperience   Salary\n",
              "0              1.2  39344.0\n",
              "1              1.4  46206.0\n",
              "2              1.6  37732.0\n",
              "3              2.1  43526.0\n",
              "4              2.3  39892.0"
            ],
            "text/html": [
              "\n",
              "  <div id=\"df-9e36c488-0ba3-4335-9456-faa250e59af8\" class=\"colab-df-container\">\n",
              "    <div>\n",
              "<style scoped>\n",
              "    .dataframe tbody tr th:only-of-type {\n",
              "        vertical-align: middle;\n",
              "    }\n",
              "\n",
              "    .dataframe tbody tr th {\n",
              "        vertical-align: top;\n",
              "    }\n",
              "\n",
              "    .dataframe thead th {\n",
              "        text-align: right;\n",
              "    }\n",
              "</style>\n",
              "<table border=\"1\" class=\"dataframe\">\n",
              "  <thead>\n",
              "    <tr style=\"text-align: right;\">\n",
              "      <th></th>\n",
              "      <th>YearsExperience</th>\n",
              "      <th>Salary</th>\n",
              "    </tr>\n",
              "  </thead>\n",
              "  <tbody>\n",
              "    <tr>\n",
              "      <th>0</th>\n",
              "      <td>1.2</td>\n",
              "      <td>39344.0</td>\n",
              "    </tr>\n",
              "    <tr>\n",
              "      <th>1</th>\n",
              "      <td>1.4</td>\n",
              "      <td>46206.0</td>\n",
              "    </tr>\n",
              "    <tr>\n",
              "      <th>2</th>\n",
              "      <td>1.6</td>\n",
              "      <td>37732.0</td>\n",
              "    </tr>\n",
              "    <tr>\n",
              "      <th>3</th>\n",
              "      <td>2.1</td>\n",
              "      <td>43526.0</td>\n",
              "    </tr>\n",
              "    <tr>\n",
              "      <th>4</th>\n",
              "      <td>2.3</td>\n",
              "      <td>39892.0</td>\n",
              "    </tr>\n",
              "  </tbody>\n",
              "</table>\n",
              "</div>\n",
              "    <div class=\"colab-df-buttons\">\n",
              "\n",
              "  <div class=\"colab-df-container\">\n",
              "    <button class=\"colab-df-convert\" onclick=\"convertToInteractive('df-9e36c488-0ba3-4335-9456-faa250e59af8')\"\n",
              "            title=\"Convert this dataframe to an interactive table.\"\n",
              "            style=\"display:none;\">\n",
              "\n",
              "  <svg xmlns=\"http://www.w3.org/2000/svg\" height=\"24px\" viewBox=\"0 -960 960 960\">\n",
              "    <path d=\"M120-120v-720h720v720H120Zm60-500h600v-160H180v160Zm220 220h160v-160H400v160Zm0 220h160v-160H400v160ZM180-400h160v-160H180v160Zm440 0h160v-160H620v160ZM180-180h160v-160H180v160Zm440 0h160v-160H620v160Z\"/>\n",
              "  </svg>\n",
              "    </button>\n",
              "\n",
              "  <style>\n",
              "    .colab-df-container {\n",
              "      display:flex;\n",
              "      gap: 12px;\n",
              "    }\n",
              "\n",
              "    .colab-df-convert {\n",
              "      background-color: #E8F0FE;\n",
              "      border: none;\n",
              "      border-radius: 50%;\n",
              "      cursor: pointer;\n",
              "      display: none;\n",
              "      fill: #1967D2;\n",
              "      height: 32px;\n",
              "      padding: 0 0 0 0;\n",
              "      width: 32px;\n",
              "    }\n",
              "\n",
              "    .colab-df-convert:hover {\n",
              "      background-color: #E2EBFA;\n",
              "      box-shadow: 0px 1px 2px rgba(60, 64, 67, 0.3), 0px 1px 3px 1px rgba(60, 64, 67, 0.15);\n",
              "      fill: #174EA6;\n",
              "    }\n",
              "\n",
              "    .colab-df-buttons div {\n",
              "      margin-bottom: 4px;\n",
              "    }\n",
              "\n",
              "    [theme=dark] .colab-df-convert {\n",
              "      background-color: #3B4455;\n",
              "      fill: #D2E3FC;\n",
              "    }\n",
              "\n",
              "    [theme=dark] .colab-df-convert:hover {\n",
              "      background-color: #434B5C;\n",
              "      box-shadow: 0px 1px 3px 1px rgba(0, 0, 0, 0.15);\n",
              "      filter: drop-shadow(0px 1px 2px rgba(0, 0, 0, 0.3));\n",
              "      fill: #FFFFFF;\n",
              "    }\n",
              "  </style>\n",
              "\n",
              "    <script>\n",
              "      const buttonEl =\n",
              "        document.querySelector('#df-9e36c488-0ba3-4335-9456-faa250e59af8 button.colab-df-convert');\n",
              "      buttonEl.style.display =\n",
              "        google.colab.kernel.accessAllowed ? 'block' : 'none';\n",
              "\n",
              "      async function convertToInteractive(key) {\n",
              "        const element = document.querySelector('#df-9e36c488-0ba3-4335-9456-faa250e59af8');\n",
              "        const dataTable =\n",
              "          await google.colab.kernel.invokeFunction('convertToInteractive',\n",
              "                                                    [key], {});\n",
              "        if (!dataTable) return;\n",
              "\n",
              "        const docLinkHtml = 'Like what you see? Visit the ' +\n",
              "          '<a target=\"_blank\" href=https://colab.research.google.com/notebooks/data_table.ipynb>data table notebook</a>'\n",
              "          + ' to learn more about interactive tables.';\n",
              "        element.innerHTML = '';\n",
              "        dataTable['output_type'] = 'display_data';\n",
              "        await google.colab.output.renderOutput(dataTable, element);\n",
              "        const docLink = document.createElement('div');\n",
              "        docLink.innerHTML = docLinkHtml;\n",
              "        element.appendChild(docLink);\n",
              "      }\n",
              "    </script>\n",
              "  </div>\n",
              "\n",
              "\n",
              "<div id=\"df-e4ded1b8-ec76-444c-8074-a5ea08fe2578\">\n",
              "  <button class=\"colab-df-quickchart\" onclick=\"quickchart('df-e4ded1b8-ec76-444c-8074-a5ea08fe2578')\"\n",
              "            title=\"Suggest charts\"\n",
              "            style=\"display:none;\">\n",
              "\n",
              "<svg xmlns=\"http://www.w3.org/2000/svg\" height=\"24px\"viewBox=\"0 0 24 24\"\n",
              "     width=\"24px\">\n",
              "    <g>\n",
              "        <path d=\"M19 3H5c-1.1 0-2 .9-2 2v14c0 1.1.9 2 2 2h14c1.1 0 2-.9 2-2V5c0-1.1-.9-2-2-2zM9 17H7v-7h2v7zm4 0h-2V7h2v10zm4 0h-2v-4h2v4z\"/>\n",
              "    </g>\n",
              "</svg>\n",
              "  </button>\n",
              "\n",
              "<style>\n",
              "  .colab-df-quickchart {\n",
              "      --bg-color: #E8F0FE;\n",
              "      --fill-color: #1967D2;\n",
              "      --hover-bg-color: #E2EBFA;\n",
              "      --hover-fill-color: #174EA6;\n",
              "      --disabled-fill-color: #AAA;\n",
              "      --disabled-bg-color: #DDD;\n",
              "  }\n",
              "\n",
              "  [theme=dark] .colab-df-quickchart {\n",
              "      --bg-color: #3B4455;\n",
              "      --fill-color: #D2E3FC;\n",
              "      --hover-bg-color: #434B5C;\n",
              "      --hover-fill-color: #FFFFFF;\n",
              "      --disabled-bg-color: #3B4455;\n",
              "      --disabled-fill-color: #666;\n",
              "  }\n",
              "\n",
              "  .colab-df-quickchart {\n",
              "    background-color: var(--bg-color);\n",
              "    border: none;\n",
              "    border-radius: 50%;\n",
              "    cursor: pointer;\n",
              "    display: none;\n",
              "    fill: var(--fill-color);\n",
              "    height: 32px;\n",
              "    padding: 0;\n",
              "    width: 32px;\n",
              "  }\n",
              "\n",
              "  .colab-df-quickchart:hover {\n",
              "    background-color: var(--hover-bg-color);\n",
              "    box-shadow: 0 1px 2px rgba(60, 64, 67, 0.3), 0 1px 3px 1px rgba(60, 64, 67, 0.15);\n",
              "    fill: var(--button-hover-fill-color);\n",
              "  }\n",
              "\n",
              "  .colab-df-quickchart-complete:disabled,\n",
              "  .colab-df-quickchart-complete:disabled:hover {\n",
              "    background-color: var(--disabled-bg-color);\n",
              "    fill: var(--disabled-fill-color);\n",
              "    box-shadow: none;\n",
              "  }\n",
              "\n",
              "  .colab-df-spinner {\n",
              "    border: 2px solid var(--fill-color);\n",
              "    border-color: transparent;\n",
              "    border-bottom-color: var(--fill-color);\n",
              "    animation:\n",
              "      spin 1s steps(1) infinite;\n",
              "  }\n",
              "\n",
              "  @keyframes spin {\n",
              "    0% {\n",
              "      border-color: transparent;\n",
              "      border-bottom-color: var(--fill-color);\n",
              "      border-left-color: var(--fill-color);\n",
              "    }\n",
              "    20% {\n",
              "      border-color: transparent;\n",
              "      border-left-color: var(--fill-color);\n",
              "      border-top-color: var(--fill-color);\n",
              "    }\n",
              "    30% {\n",
              "      border-color: transparent;\n",
              "      border-left-color: var(--fill-color);\n",
              "      border-top-color: var(--fill-color);\n",
              "      border-right-color: var(--fill-color);\n",
              "    }\n",
              "    40% {\n",
              "      border-color: transparent;\n",
              "      border-right-color: var(--fill-color);\n",
              "      border-top-color: var(--fill-color);\n",
              "    }\n",
              "    60% {\n",
              "      border-color: transparent;\n",
              "      border-right-color: var(--fill-color);\n",
              "    }\n",
              "    80% {\n",
              "      border-color: transparent;\n",
              "      border-right-color: var(--fill-color);\n",
              "      border-bottom-color: var(--fill-color);\n",
              "    }\n",
              "    90% {\n",
              "      border-color: transparent;\n",
              "      border-bottom-color: var(--fill-color);\n",
              "    }\n",
              "  }\n",
              "</style>\n",
              "\n",
              "  <script>\n",
              "    async function quickchart(key) {\n",
              "      const quickchartButtonEl =\n",
              "        document.querySelector('#' + key + ' button');\n",
              "      quickchartButtonEl.disabled = true;  // To prevent multiple clicks.\n",
              "      quickchartButtonEl.classList.add('colab-df-spinner');\n",
              "      try {\n",
              "        const charts = await google.colab.kernel.invokeFunction(\n",
              "            'suggestCharts', [key], {});\n",
              "      } catch (error) {\n",
              "        console.error('Error during call to suggestCharts:', error);\n",
              "      }\n",
              "      quickchartButtonEl.classList.remove('colab-df-spinner');\n",
              "      quickchartButtonEl.classList.add('colab-df-quickchart-complete');\n",
              "    }\n",
              "    (() => {\n",
              "      let quickchartButtonEl =\n",
              "        document.querySelector('#df-e4ded1b8-ec76-444c-8074-a5ea08fe2578 button');\n",
              "      quickchartButtonEl.style.display =\n",
              "        google.colab.kernel.accessAllowed ? 'block' : 'none';\n",
              "    })();\n",
              "  </script>\n",
              "</div>\n",
              "\n",
              "    </div>\n",
              "  </div>\n"
            ]
          },
          "metadata": {},
          "execution_count": 36
        }
      ]
    },
    {
      "cell_type": "markdown",
      "source": [
        "# Linear Regression with one Variable (Gradient Descent)"
      ],
      "metadata": {
        "id": "Fc0ou5CvCfHa"
      }
    },
    {
      "cell_type": "code",
      "source": [
        "# Converting into Numpy Arrays\n",
        "data = df.to_numpy()\n",
        "\n",
        "#Add a column of ones to the data matrix that allows us to treat the intercept parameter as a feature.\n",
        "X = np.c_[np.ones(len(data)),data[:,0]]\n",
        "\n",
        "y = np.c_[data[:,1]] # set y data to the second imported column\n",
        "m, n = X.shape # m as rows/dimensions/features, n as columns/sample/record/observations\n",
        "\n",
        "# print('Number of features (n): %.0f'%(n))\n",
        "print('Number of training examples (m): %.0f'%(m))\n",
        "print('Number of features (n): %.0f'%(n))\n",
        "\n",
        "\n",
        "# Create a Scatter Plot of the data by using Matplotlib to see the Data Distribution or Spread\n",
        "# Creating our X axis as YearsExperience column and Y axis as Salary Column\n",
        "%matplotlib inline\n",
        "plt.figure()\n",
        "plt.scatter(X[:,1], y, s=30, c='r', marker='x', linewidths=1)\n",
        "plt.xlabel('Years of Experience')  # Corrected label\n",
        "plt.ylabel('Salary in Dollars ($)')  # Corrected label\n",
        "plt.title('Raw Data Imported')\n",
        "plt.grid(True)\n",
        "plt.show()"
      ],
      "metadata": {
        "colab": {
          "base_uri": "https://localhost:8080/",
          "height": 507
        },
        "id": "NyXmt6q6Cfug",
        "outputId": "7bf76f5f-59bf-4ad2-ff80-ff04f8fde216"
      },
      "execution_count": 37,
      "outputs": [
        {
          "output_type": "stream",
          "name": "stdout",
          "text": [
            "Number of training examples (m): 30\n",
            "Number of features (n): 2\n"
          ]
        },
        {
          "output_type": "display_data",
          "data": {
            "text/plain": [
              "<Figure size 640x480 with 1 Axes>"
            ],
            "image/png": "[encoded data removed]"
          },
          "metadata": {}
        }
      ]
    },
    {
      "cell_type": "markdown",
      "source": [
        "## Linear Regression with one Variable (Gradient Descent)"
      ],
      "metadata": {
        "id": "PuOXZ2vVCmtY"
      }
    },
    {
      "cell_type": "markdown",
      "source": [
        "Hypothesis:\n",
        "$ h_\\theta (x) = \\theta_0 + \\theta_1 x $\n",
        "\n",
        "Parameters/Features:\n",
        "$\\theta_0 $, $\\theta_1$\n",
        "\n",
        "m = number of training examples <br>\n",
        "n = number of features <br>\n",
        "i = interation of training examples <br>\n",
        "j = iterations of features<br>\n",
        "$\\alpha$ = learnign rate\n",
        "\n",
        "The objective of linear regression is to minimize the cost function which is given by\n",
        "Cost Function (J):\n",
        "$$J(\\theta_0, \\theta_1) = \\frac{1}{(2m)}\\sum_{i = 1}^m \\Bigl(h_\\theta (x^{(i)}) - y^{(i)}\\Bigr)^{2}$$\n",
        "where the hypothesis is given by a linear model:\n",
        "$$h_{\\theta}(x) = \\theta^Tx = \\theta_0 + \\theta_1x_1$$\n",
        "\n",
        "Algorithm: Gradient descent. In batch gradient descent, each iteration performs the update and repeats until Convergence (updating parameters simultaneously)\n",
        "\n",
        "$$\\theta_j := \\theta_j - \\alpha \\frac{\\partial}{\\partial \\theta_j} J\\Bigl(\\theta_0, \\theta_1\\Bigr)$$\n",
        "where <br>\n",
        "for j = 0    \n",
        "$$\\frac{\\partial}{\\partial \\theta_0} J\\Bigl(\\theta_0, \\theta_1\\Bigr) = \\frac{1}{m}\\sum_{i = 1}^m \\Bigl(h_\\theta (x^{(i)}) - y^{(i)}\\Bigr)$$<br>\n",
        "for j = 1,2,3...n        \n",
        "$$\\frac{\\partial}{\\partial \\theta_j} J\\Bigl(\\theta_0, \\theta_1\\Bigr) = \\frac{1}{m}\\sum_{i = 1}^m \\Bigl(h_\\theta (x^{(i)}) - y^{(i)}\\Bigr)x^{(i)}$$\n",
        "With each step of gradient descent, your parameters $\\theta_j$ come closer to the optimal values that will achieve the lowest cost J($\\theta$)."
      ],
      "metadata": {
        "id": "ow9QtDvpCov_"
      }
    },
    {
      "cell_type": "markdown",
      "source": [
        "### Initialisation of Gradient Descent"
      ],
      "metadata": {
        "id": "8dIWPMyECrlI"
      }
    },
    {
      "cell_type": "code",
      "source": [
        "#Inialize each of the two model parameters to zero.\n",
        "theta_gd=[[0],[0]]\n",
        "\n",
        "# computre the cost function for a given\n",
        "def computeCost(X, y, theta_gd):\n",
        "    \"\"\"\n",
        "    Compute cost for linear regression. Computes the cost of using theta_gd as the\n",
        "    parameter for linear regression to fit the data points in X and y.\n",
        "\n",
        "    Parameters\n",
        "    ----------\n",
        "    X : array_like\n",
        "        The input dataset of shape (m x n+1), where m is the number of examples,\n",
        "        and n is the number of features. We assume a vector of one's already\n",
        "        appended to the features so we have n+1 columns.\n",
        "\n",
        "    y : array_like\n",
        "        The values of the function at each data point. This is a vector of\n",
        "        shape (m, ).\n",
        "\n",
        "    theta_gd : array_like\n",
        "        The parameters for the regression function. This is a vector of\n",
        "        shape (n+1, ).\n",
        "\n",
        "    Returns\n",
        "    -------\n",
        "    J : float\n",
        "        The value of the regression cost function.\n",
        "    \"\"\"\n",
        "    J = 0\n",
        "    hypoth = X.dot(theta_gd) # determin the hypothesis\n",
        "    J = 1 / (2 * m) * np.sum(np.square(hypoth - y)) # determine the cost function\n",
        "\n",
        "    return(J) # return the cost function"
      ],
      "metadata": {
        "id": "I5tiDF0uCtNj"
      },
      "execution_count": 38,
      "outputs": []
    },
    {
      "cell_type": "markdown",
      "source": [
        "### Implemet Gradient descent"
      ],
      "metadata": {
        "id": "UkkCzxjVCv3M"
      }
    },
    {
      "cell_type": "code",
      "source": [
        "alpha = 0.01 #define the learning rate\n",
        "num_iters = 2000 # define the number of iterations of gradient descent\n",
        "x_scale = np.arange(num_iters)\n",
        "\n",
        "def gradientDescent(X, y, theta_gd, alpha, num_iters):\n",
        "    \"\"\"\n",
        "    Performs gradient descent to learn 'theta_gd'. Updates theta by taking 'num_iters'\n",
        "    gradient steps with learning rate 'alpha'.\n",
        "\n",
        "    Parameters\n",
        "    ----------\n",
        "    X : array_like\n",
        "        The input dataset of shape (m x n+1).\n",
        "\n",
        "    y : arra_like\n",
        "        Value at given features. A vector of shape (m, ).\n",
        "\n",
        "    theta : array_like\n",
        "        Initial values for the linear regression parameters.\n",
        "        A vector of shape (n+1, ).\n",
        "\n",
        "    alpha : float\n",
        "        The learning rate.\n",
        "\n",
        "    num_iters : int\n",
        "        The number of iterations for gradient descent.\n",
        "\n",
        "    Returns\n",
        "    -------\n",
        "    theta : array_like\n",
        "        The learned linear regression parameters. A vector of shape (n+1, ).\n",
        "\n",
        "    J_history : list\n",
        "        A python list for the values of the cost function after each iteration.\n",
        "\n",
        "    \"\"\"\n",
        "    theta_gd_history = np.zeros((num_iters, 2))\n",
        "    J_history = np.zeros((num_iters))\n",
        "\n",
        "    for iter in np.arange(num_iters): #gradient descent iteration loop\n",
        "\n",
        "        hypoth = X.dot(theta_gd) # determine the hypothesis for the current value of thetas\n",
        "        dJ_theta_gd  = (1/m) * (X.T.dot(hypoth - y)) # Determine derivative of cost function\n",
        "        theta_gd = theta_gd - alpha * dJ_theta_gd #calculate new values of theta\n",
        "\n",
        "        # store calculated values of theta\n",
        "        theta_gd_history[iter][0] = theta_gd[0]\n",
        "        theta_gd_history[iter][1] = theta_gd[1]\n",
        "\n",
        "        J_history[iter] = computeCost(X, y, theta_gd) #calclate the cost fucntion\n",
        "\n",
        "    return(theta_gd, J_history, theta_gd_history) # return final theta and the list of cost function results\n",
        "\n",
        "# run gradient descent to return final theta for minimum cost funtiona as well as all the cost function values\n",
        "#calculated (for each iteration)\n",
        "theta_gd, J_history, theta_gd_history = gradientDescent(X, y, theta_gd, alpha, num_iters)\n",
        "print('\\nThe parameter values for minimised cost function:')\n",
        "print('\\t%s_0: %f' %(sympy.pretty(theta),theta_gd[0]))\n",
        "print('\\t%s_1: %f' %(sympy.pretty(theta), theta_gd[1]))\n",
        "\n",
        "# plot theta values as a function of iterations of gradient descent\n",
        "%matplotlib inline\n",
        "plt.figure()\n",
        "plt.plot(x_scale, theta_gd_history)\n",
        "plt.ylabel('Theta Values')\n",
        "plt.xlabel('Iterations');\n",
        "plt.title('Theta Values over iterations')\n",
        "plt.grid(True)\n",
        "plt.legend([r'$\\theta_0$', r'$\\theta_1$'])\n",
        "\n",
        "# plot cost function histtory as a function of iterations of gradient descent\n",
        "plt.figure()\n",
        "plt.plot(x_scale, J_history)\n",
        "plt.ylabel('Cost J')\n",
        "plt.xlabel('Iterations');\n",
        "plt.title('Cost Function over iterations')\n",
        "plt.grid(True)"
      ],
      "metadata": {
        "colab": {
          "base_uri": "https://localhost:8080/",
          "height": 996
        },
        "id": "kpTJFFGzCwfD",
        "outputId": "e4d5f7e5-01c0-4dc4-f8f1-d59b3c1abd7c"
      },
      "execution_count": 39,
      "outputs": [
        {
          "output_type": "stream",
          "name": "stdout",
          "text": [
            "\n",
            "The parameter values for minimised cost function:\n",
            "\tθ_0: 24472.969764\n",
            "\tθ_1: 9505.034359\n"
          ]
        },
        {
          "output_type": "display_data",
          "data": {
            "text/plain": [
              "<Figure size 640x480 with 1 Axes>"
            ],
            "image/png": "[encoded data removed]"
          },
          "metadata": {}
        },
        {
          "output_type": "display_data",
          "data": {
            "text/plain": [
              "<Figure size 640x480 with 1 Axes>"
            ],
            "image/png": "[encoded data removed]"
          },
          "metadata": {}
        }
      ]
    },
    {
      "cell_type": "code",
      "source": [
        "# Plot the Predicted Value in Scatter\n",
        "plt.scatter(X[:,1], y, color='red', marker='x', label='Training Data')\n",
        "plt.plot(X[:,1], X.dot(theta_gd), color='blue', label='Linear Regression')\n",
        "plt.xlabel('Years of Experience')\n",
        "plt.ylabel('Salary')\n",
        "plt.title('Salary vs. Years of Experience')\n",
        "plt.legend()\n",
        "plt.show()"
      ],
      "metadata": {
        "colab": {
          "base_uri": "https://localhost:8080/",
          "height": 472
        },
        "id": "OX23ODVhDD3U",
        "outputId": "7de1283e-2ce5-4038-dac3-8f1fb9087444"
      },
      "execution_count": 40,
      "outputs": [
        {
          "output_type": "display_data",
          "data": {
            "text/plain": [
              "<Figure size 640x480 with 1 Axes>"
            ],
            "image/png": "[encoded data removed]"
          },
          "metadata": {}
        }
      ]
    },
    {
      "cell_type": "markdown",
      "source": [
        "### Compare Gradient Descent and sklearn"
      ],
      "metadata": {
        "id": "IRYjbfcqDUcY"
      }
    },
    {
      "cell_type": "code",
      "source": [
        "# detertine the y values according to the theta values from gradient descent\n",
        "y_gd = X.dot(theta_gd)\n",
        "# determine the r^2 value\n",
        "from sklearn.metrics import r2_score\n",
        "r2_gd = r2_score(y, y_gd) # Comparing Original y and y_gd\n",
        "\n",
        "# determine the fit using linear regression classifier from sklearn\n",
        "from sklearn.linear_model import LinearRegression # data classification, regeression, clustering etc\n",
        "lr_regr = LinearRegression()\n",
        "lr_regr.fit(X[:,1].reshape(-1,1), y.ravel())\n",
        "theta_lr = np.zeros(2)\n",
        "theta_lr[0] = lr_regr.intercept_\n",
        "theta_lr[1] = lr_regr.coef_\n",
        "y_lr = lr_regr.predict(X[:,1].reshape(-1,1))\n",
        "r2_lr = r2_score(y, y_lr) # Comparing Original y and y_lr\n",
        "\n",
        "print('Goodness of fit for Gradient Descent r^2: %.3f' % (r2_gd))\n",
        "print('Goodness of fit for Scikit-learn linear model r^2: %.3f' % (r2_lr))"
      ],
      "metadata": {
        "colab": {
          "base_uri": "https://localhost:8080/"
        },
        "id": "_b1DmNc3DVQG",
        "outputId": "68e2e3bd-1ef8-4433-d41d-780c87ac8570"
      },
      "execution_count": 41,
      "outputs": [
        {
          "output_type": "stream",
          "name": "stdout",
          "text": [
            "Goodness of fit for Gradient Descent r^2: 0.957\n",
            "Goodness of fit for Scikit-learn linear model r^2: 0.957\n"
          ]
        }
      ]
    },
    {
      "cell_type": "markdown",
      "source": [
        "### Prediction"
      ],
      "metadata": {
        "id": "AJHz3zYuDm8N"
      }
    },
    {
      "cell_type": "code",
      "source": [
        "# Predict the Salary from 5 Years of Experience and 10 Years of Experience\n",
        "\n",
        "# Predict Salary for 5 years of experience\n",
        "years_experience_5 = 5.0\n",
        "predicted_salary_5_gd = np.dot([1, years_experience_5], theta_gd)\n",
        "predicted_salary_5_lr = lr_regr.predict([[years_experience_5]])\n",
        "\n",
        "print(\"Predicted Salary for {:.2f} years of experience using Gradient Descent: ${:.2f}\".format(years_experience_5, predicted_salary_5_gd.item()))\n",
        "print(\"Predicted Salary for {:.2f} years of experience using Scikit-learn Linear Regression: ${:.2f}\".format(years_experience_5, predicted_salary_5_lr.item()))\n",
        "\n",
        "# Predict Salary for 10 years of experience\n",
        "years_experience_10 = 10.0\n",
        "predicted_salary_10_gd = np.dot([1, years_experience_10], theta_gd)\n",
        "predicted_salary_10_lr = lr_regr.predict([[years_experience_10]])\n",
        "\n",
        "print(\"\\nPredicted Salary for {:.2f} years of experience using Gradient Descent: ${:.2f}\".format(years_experience_10, predicted_salary_10_gd.item()))\n",
        "print(\"Predicted Salary for {:.2f} years of experience using Scikit-learn Linear Regression: ${:.2f}\".format(years_experience_10, predicted_salary_10_lr.item()))"
      ],
      "metadata": {
        "colab": {
          "base_uri": "https://localhost:8080/"
        },
        "id": "jwjyBmqvDgLk",
        "outputId": "6e959abf-9439-4b34-dc6f-6648e34dcf68"
      },
      "execution_count": 42,
      "outputs": [
        {
          "output_type": "stream",
          "name": "stdout",
          "text": [
            "Predicted Salary for 5.00 years of experience using Gradient Descent: $71998.14\n",
            "Predicted Salary for 5.00 years of experience using Scikit-learn Linear Regression: $72098.02\n",
            "\n",
            "Predicted Salary for 10.00 years of experience using Gradient Descent: $119523.31\n",
            "Predicted Salary for 10.00 years of experience using Scikit-learn Linear Regression: $119347.83\n"
          ]
        }
      ]
    },
    {
      "cell_type": "markdown",
      "source": [
        "### Summary of results"
      ],
      "metadata": {
        "id": "tCqsXYwFDqK4"
      }
    },
    {
      "cell_type": "code",
      "source": [
        "# Fitting Results: GRADIENT DESCENT\n",
        "print('-----------------------------------------------------------------')\n",
        "print('\\t\\t\\tFITING RESULTS GRADIENT DESCENT')\n",
        "print('-----------------------------------------------------------------')\n",
        "print(\"\\nFitting: GRADIENT DESCENT\")\n",
        "print(\"Learning rate (alpha):\", alpha)\n",
        "print(\"Number of iterations:\", num_iters)\n",
        "print(\"Fitting parameters:\")\n",
        "print(f\"\\tIntercept θ_0: {theta_gd[0][0]:.3f}\")\n",
        "print(f\"\\tSlope θ_1: {theta_gd[1][0]:.3f}\")\n",
        "print(f\"Goodness of fit r^2: {r2_gd:.3f}\")\n",
        "\n",
        "# Predictions for 5 and 10 years of experience using Gradient Descent\n",
        "years_of_experience = [5, 10]\n",
        "for years in years_of_experience:\n",
        "    predicted_salary = theta_gd[0][0] + theta_gd[1][0] * years\n",
        "    print(f\"Predicted Salary for {years:.2f} years of experience using Gradient Descent: ${predicted_salary:.2f}\")\n",
        "\n",
        "# Fitting Results: Linear Regression SKLEARN\n",
        "print('-----------------------------------------------------------------')\n",
        "print('\\t\\t\\tFITING RESULTS SKLEARN')\n",
        "print('-----------------------------------------------------------------')\n",
        "print(\"\\nFitting: Linear Regression SKLEARN\")\n",
        "print(\"Fitting parameters:\")\n",
        "print(f\"\\tIntercept θ_0: {theta_lr[0]:.3f}\")\n",
        "print(f\"\\tSlope θ_1: {theta_lr[1]:.3f}\")\n",
        "print(f\"Goodness of fit r^2: {r2_lr:.3f}\")\n",
        "\n",
        "# Predictions for 5 and 10 years of experience using Scikit-learn Linear Regression\n",
        "for years in years_of_experience:\n",
        "    predicted_salary = lr_regr.predict(np.array([[years]]))[0]\n",
        "    print(f\"Predicted Salary for {years:.2f} years of experience using Scikit-learn Linear Regression: ${predicted_salary:.2f}\")\n",
        "\n",
        "# Scatter Plot: Gradient Descent & Scikit-learn Linear Regression\n",
        "plt.figure(figsize=(12, 6))\n",
        "\n",
        "# Scatter plot for the raw data\n",
        "plt.subplot(1, 2, 1)\n",
        "plt.scatter(X[:, 1], y, s=30, c='r', marker='x', linewidths=1)\n",
        "plt.xlabel('Year of Experiences')\n",
        "plt.ylabel('Salary in Dollars ($)')\n",
        "plt.title('Raw Data Imported')\n",
        "plt.grid(True)\n",
        "\n",
        "# Scatter plot for Gradient Descent predictions\n",
        "plt.subplot(1, 2, 2)\n",
        "plt.scatter(X[:, 1], y, s=30, c='r', marker='x', linewidths=1)\n",
        "plt.plot(X[:, 1], y_gd, label='Gradient Descent', color='b')\n",
        "plt.xlabel('Year of Experiences')\n",
        "plt.ylabel('Salary in Dollars ($)')\n",
        "plt.title('Gradient Descent Predictions')\n",
        "plt.grid(True)\n",
        "plt.legend()\n",
        "\n",
        "plt.tight_layout()\n",
        "plt.show()"
      ],
      "metadata": {
        "colab": {
          "base_uri": "https://localhost:8080/",
          "height": 1000
        },
        "id": "s59YTzW8DpNA",
        "outputId": "068572bd-89c7-44cb-9659-3e537b9098a1"
      },
      "execution_count": 43,
      "outputs": [
        {
          "output_type": "stream",
          "name": "stdout",
          "text": [
            "-----------------------------------------------------------------\n",
            "\t\t\tFITING RESULTS GRADIENT DESCENT\n",
            "-----------------------------------------------------------------\n",
            "\n",
            "Fitting: GRADIENT DESCENT\n",
            "Learning rate (alpha): 0.01\n",
            "Number of iterations: 2000\n",
            "Fitting parameters:\n",
            "\tIntercept θ_0: 24472.970\n",
            "\tSlope θ_1: 9505.034\n",
            "Goodness of fit r^2: 0.957\n",
            "Predicted Salary for 5.00 years of experience using Gradient Descent: $71998.14\n",
            "Predicted Salary for 10.00 years of experience using Gradient Descent: $119523.31\n",
            "-----------------------------------------------------------------\n",
            "\t\t\tFITING RESULTS SKLEARN\n",
            "-----------------------------------------------------------------\n",
            "\n",
            "Fitting: Linear Regression SKLEARN\n",
            "Fitting parameters:\n",
            "\tIntercept θ_0: 24848.204\n",
            "\tSlope θ_1: 9449.962\n",
            "Goodness of fit r^2: 0.957\n",
            "Predicted Salary for 5.00 years of experience using Scikit-learn Linear Regression: $72098.02\n",
            "Predicted Salary for 10.00 years of experience using Scikit-learn Linear Regression: $119347.83\n"
          ]
        },
        {
          "output_type": "display_data",
          "data": {
            "text/plain": [
              "<Figure size 1200x600 with 2 Axes>"
            ],
            "image/png": "[encoded data removed]"
          },
          "metadata": {}
        }
      ]
    },
    {
      "cell_type": "markdown",
      "source": [
        "## 1 Regularized Linear Regression"
      ],
      "metadata": {
        "id": "R9URgSB6WNjT"
      }
    },
    {
      "cell_type": "code",
      "source": [],
      "metadata": {
        "id": "S5Uoe6tzXtix"
      },
      "execution_count": 43,
      "outputs": []
    },
    {
      "cell_type": "code",
      "source": [],
      "metadata": {
        "id": "A7YJx1tMYfzz"
      },
      "execution_count": 43,
      "outputs": []
    },
    {
      "cell_type": "code",
      "source": [],
      "metadata": {
        "id": "pStHbahKWFT8"
      },
      "execution_count": 43,
      "outputs": []
    },
    {
      "cell_type": "code",
      "source": [],
      "metadata": {
        "id": "PnnB1w06WVGi"
      },
      "execution_count": 43,
      "outputs": []
    },
    {
      "cell_type": "markdown",
      "source": [
        "# Homework 3.2\n",
        "Continuing from homework 1, use the ‘ext1data.txt’ dataset from Andrew Ng’s Exercise 1 and perform polynomial linear regression using sklearn library with degree 10 under these 3 approaches:\n",
        "\n",
        "* Without regularization\n",
        "* With L1 regularization\n",
        "* With L2 regularization\n",
        "* With Elastic-Net regularization\n",
        "\n",
        "See example code from Kaggle\n",
        "https://www.kaggle.com/code/jonasschroeder/regularization-examples-ridge-lasso-l1-l2\n",
        "\n",
        "Ext1 Dataset (Exercise 1):\n",
        "https://github.com/michaelmorr82/Machine-Learning-Coursera-Andrew-Ng/tree/master/Exercises\n",
        "\n",
        "Submit your .ipynb file to show your work"
      ],
      "metadata": {
        "id": "y5kzs2C2qJmS"
      }
    },
    {
      "cell_type": "code",
      "source": [],
      "metadata": {
        "id": "1KhTM8sDrVs9"
      },
      "execution_count": 43,
      "outputs": []
    },
    {
      "cell_type": "markdown",
      "source": [
        "# Homework 3.3\n",
        "\n",
        "Follow the Kaggle example below, using the same dataset. Determine the best value of λ to use for\n",
        "Ridge Regression and Lasso Regression for polynomial regression of degree 10.\n",
        "• Kaggle code: https://www.kaggle.com/code/jonasschroeder/regularization-examples-ridge-lasso-l1-l2\n",
        "\n",
        "Submit the Jupyter Notebook .ipynb file to show your work."
      ],
      "metadata": {
        "id": "mJrks6fZr1eq"
      }
    }
  ]
}