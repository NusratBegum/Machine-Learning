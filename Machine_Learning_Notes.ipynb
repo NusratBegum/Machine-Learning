{
  "nbformat": 4,
  "nbformat_minor": 0,
  "metadata": {
    "colab": {
      "provenance": [],
      "authorship_tag": "ABX9TyM9lHV8mOffEnIr0/p09t7m",
      "include_colab_link": true
    },
    "kernelspec": {
      "name": "python3",
      "display_name": "Python 3"
    },
    "language_info": {
      "name": "python"
    }
  },
  "cells": [
    {
      "cell_type": "markdown",
      "metadata": {
        "id": "view-in-github",
        "colab_type": "text"
      },
      "source": [
        "<a href=\"https://colab.research.google.com/github/NusratBegum/Machine-Learning/blob/main/Machine_Learning_Notes.ipynb\" target=\"_parent\"><img src=\"https://colab.research.google.com/assets/colab-badge.svg\" alt=\"Open In Colab\"/></a>"
      ]
    },
    {
      "cell_type": "markdown",
      "source": [
        "# Course Notations\n",
        "\n",
        "For simplicity and avoiding confusion, we shall stick to the following notations throughout our course.  Note that these notations may vary across disciplines and even person to person.  I will try to use most common notations when possible.\n",
        "\n",
        "| Symbol / Notations | Typical meaning    |\n",
        "|:-------------|:-----------|\n",
        "| $a, b, c, \\alpha, \\beta, \\gamma$  | Scalars are lowercase       |\n",
        "| $\\mathbf{x, y, z}$  | Vectors are bold lowercase    |\n",
        "| $\\mathbf{X, Y, Z}$  | Matrices are bold uppercase    |\n",
        "| $\\mathbf{x^\\top, X^\\top}$  | Transpose of a vector or matrix   |\n",
        "| $\\mathbf{X^{-1}}$  | Inverse of a matrix   |\n",
        "| $\\langle\\mathbf{x, y}\\rangle$  | Inner product of $\\mathbf{x}$ and $\\mathbf{y}$   |\n",
        "| $\\mathbf{x^\\top y}$  | Dot product of  $\\mathbf{x}$ and $\\mathbf{y}$   |\n",
        "| $\\mathbb{Z}$  | set of integers |\n",
        "| $\\mathbb{R}$  | set of real numbers |\n",
        "| $\\mathbb{R}^n$  | $n$-dimensional vector space of real numbers |\n",
        "| $\\mathbf{x} \\in \\mathbb{R}^n$ | $x$ is member of $n$-dimensional vector space of real numbers, i.e., $x$ has $n$ features|\n",
        "| $\\forall x$ | for all $x$ |\n",
        "| $\\exists x$ | there exists $x$ |\n",
        "| $a:=b$ | $a$ is defined as $b$ |\n",
        "| $a=:b$ | $b$ is defined as $a$ |\n",
        "| $a \\propto b$ | $a$ is proportional to $b$, i.e., $a=\\text{constant}*b$|\n",
        "| $\\iff$| if and only if|\n",
        "| $\\implies$| implies|\n",
        "| $I_m$| Identity matrix of size $m \\ \\times \\ m$ |\n",
        "| $0_{m,n}$| Matrix of zeros of size $m \\ \\times \\ n$ |\n",
        "| $I(a=b)$| Indicator function; True will evaluate to 1, and False will evaluate to 0|\n",
        "| $rk(\\mathbf{A})$| Rank of matrix $\\mathbf{A}$|\n",
        "| $tr(\\mathbf{A})$| Trace of matrix $\\mathbf{A}$|\n",
        "| $det(\\mathbf{A})$| Determinant of matrix $\\mathbf{A}$|\n",
        "| $\\|a\\|$| Norm of a; Euclidean unless specified|\n",
        "| $\\lambda$| Eigenvalue or Lagrange multiplier or learning rate|\n",
        "| $\\alpha$| Equality lagrange multiplier or learning rate|\n",
        "| $\\beta$| Inequality lagrange multiplier|\n",
        "| $\\theta$| Model weights|\n",
        "| $w$| Model weights|\n",
        "| $\\pi$| Model weights|\n",
        "| $f(x)$| Function of x|\n",
        "| $\\partial$| Partial derivatives|\n",
        "| $d$ | Derivatives |\n",
        "| $f'(x)$| Derivatives of $f(x)$|\n",
        "| $\\Delta$ | Delta, i.e., differences |\n",
        "| $\\nabla$ | Gradient |\n",
        "| $\\mathscr{L}$ | Lagrangian |\n",
        "| $\\mathcal{L}$ | Negative log-likelihood |\n",
        "| $\\mathbb{V}_X[x]$ | Variance of $x$ with respect to the random variable $X$ |\n",
        "| $\\mathbb{E}_X[x]$ | Expectation of $x$ with respect to the random variable $X$ |\n",
        "| $\\mathbb{E}_X[x]$ | Expectation of $x$ with respect to the random variable $X$ |\n",
        "| $\\mu$ | Mean |\n",
        "| $\\bar{x}$ | Mean of x |\n",
        "| $\\Sigma$ | Covariance |\n",
        "| $Cov_{X, Y}[x, y]$ | Covariance between $x$ and $y$|\n",
        "| $\\sigma$ | Standard deviation |\n",
        "| $p(x)$ | Probability of x |\n",
        "| $p(x \\vert y)$ | Probability of x given y |\n",
        "| $p(x \\vert y ; \\theta)$ | Probability of x given y parametrize by $\\theta$ |\n",
        "| $X \\sim p$ | Random variable $X$ is distributed according to $p$ |\n",
        "| $\\mathcal{N(\\mu, \\Sigma)}$ | Gaussian distribution with mean $\\mu$ and covariance $\\Sigma$ |\n",
        "| $\\sum\\limits$ | Summation|\n",
        "| $\\prod$ | Products |\n",
        "\n",
        "| Course-Specific Notations | Meaning    |\n",
        "|:-------------|:-----------|\n",
        "| $m$| Number of samples; indexed by $i = 1, \\cdots, m$|\n",
        "| $n$| Number of features; indexed by $j = 1,\\cdots, n$|\n",
        "| $k$| Number of classes / clusters; indexed by $l = 1,\\cdots, k$|\n",
        "| $a \\ \\times \\ b$ | Matrix shape of <code>(a, b)</code>, i.e., $a$ rows, $b$ columns |\n",
        "| $\\mathbf{x}$  | Vector of a sample with shape of $n$  |\n",
        "| $\\mathbf{x^{(1)}, x^{(i)}}$  | First sample; $i$-th sample  |\n",
        "| $\\mathbf{x_1, x_i}$  | First feature; $i$-th feature  |\n",
        "| $\\mathbf{x_1^{(1)}, x_i^{(1)}}$  | First feature of first sample; $i$-th feature of first sample  |\n",
        "| $\\mathbf{X}$  | Matrices are all samples, with shape $m \\times n$, i.e., $\\mathbf{X}$ shall have $m$ rows of samples, and $n$ columns of features  |\n",
        "| $\\mathbf{y}$  | Vector of targets with shape of $m$ |\n",
        "\n",
        "| Acronym | Meaning    |\n",
        "|:-------------|:-----------|\n",
        "| e.g.,| For example|\n",
        "| i.e.,| That is |\n",
        "| i.i.d.| Independent, identically distributed |\n",
        "\n",
        "\n",
        "\n",
        "\n",
        "\n",
        "\n",
        "\n",
        "\n",
        "\n",
        "\n",
        "\n",
        "\n",
        "\n",
        "\n"
      ],
      "metadata": {
        "id": "uMePTLK-rnml"
      }
    },
    {
      "cell_type": "markdown",
      "source": [
        "# Python & Linear Algebra (Linear Equation)"
      ],
      "metadata": {
        "id": "SLrumZIaraIW"
      }
    },
    {
      "cell_type": "markdown",
      "source": [
        "## Slope of a straight line"
      ],
      "metadata": {
        "id": "Umqp8a_9sM7E"
      }
    },
    {
      "cell_type": "code",
      "source": [
        "import matplotlib as mpl\n",
        "import matplotlib.pyplot as plt\n",
        "import numpy as np\n",
        "\n",
        "#@title\n",
        "def get_line(a, b):\n",
        "    rise = b[1] - a[1]\n",
        "    run = b[0] - a[0]\n",
        "    slope = rise / run\n",
        "    intercept = a[1] - slope * a[0]  # y = mx + b; b = y - mx\n",
        "    #x, y\n",
        "    return [-1000, 1000], [-1000 * slope + intercept, 1000 * slope + intercept]\n",
        "\n",
        "def plot_line(a, b, a_name=\"A\", b_name=\"B\"):\n",
        "    #point\n",
        "    for point, name in ((a, a_name), (b, b_name)):\n",
        "        #plot(x1, y1)\n",
        "        #plot(x2, y2)\n",
        "        plt.plot(point[0], point[1], \"bo\")\n",
        "        plt.text(point[0] - 0.35, point[1], name, fontsize=14)\n",
        "    #line\n",
        "    x, y = get_line(a, b)\n",
        "    plt.plot(x, y)\n",
        "\n",
        "def plot_rise_over_run(a, b):\n",
        "    #run line\n",
        "    plt.plot([a[0], b[0]], [a[1], a[1]], \"k--\")\n",
        "    plt.text((a[0] + b[0]) / 2, a[1] - 0.4, \"run\", fontsize=14)\n",
        "    #rise line\n",
        "    plt.plot([b[0], b[0]], [a[1], b[1]], \"k--\")\n",
        "    plt.text(b[0] + 0.2, (a[1] + b[1]) / 2, \"rise\", fontsize=14)\n",
        "\n",
        "def show(axis=\"equal\", ax=None, title=None, xlabel=\"$x$\", ylabel=\"$y$\"):\n",
        "    ax = ax or plt.gca()\n",
        "    ax.axis(axis)\n",
        "    ax.grid()\n",
        "    ax.set_title(title, fontsize=14)\n",
        "    ax.set_xlabel(xlabel, fontsize=14)\n",
        "    ax.set_ylabel(ylabel, fontsize=14, rotation=0)\n",
        "\n",
        "a = np.array([1, 1])\n",
        "b = np.array([7, 4])\n",
        "show([0, 9, 0, 5], title=\"Slope = rise / run\")\n",
        "plot_line(a, b)\n",
        "plot_rise_over_run(a, b)"
      ],
      "metadata": {
        "colab": {
          "base_uri": "https://localhost:8080/",
          "height": 478
        },
        "id": "EsfQh04PrZ1a",
        "outputId": "5edeeb76-af5d-4680-d8ce-2cd8ab567c28"
      },
      "execution_count": null,
      "outputs": [
        {
          "output_type": "display_data",
          "data": {
            "text/plain": [
              "<Figure size 640x480 with 1 Axes>"
            ],
            "image/png": "[encoded data removed]"
          },
          "metadata": {}
        }
      ]
    },
    {
      "cell_type": "markdown",
      "source": [
        "### Vectors\n",
        "A vector is a quantity defined by a magnitude and a direction.  Often represented as column with brackets.  To distinguish from matrices, use lowercase letters with bold.\n",
        "\n",
        "#### Why we need vectors?\n",
        "\n",
        "Vectors are used to represent your information in a compact form, ready to be computed.  Let's say I have a house with 4 rooms, 2 toilets, 10.2$m^2$.   This can be represent as a vector like this:\n",
        "\n",
        "$$\n",
        "house = \\begin{pmatrix}\n",
        "4 \\\\\n",
        "2 \\\\\n",
        "10.2 \\\\\n",
        "\\end{pmatrix}\n",
        "$$\n",
        "\n",
        "We also called this vector a three-dimensional vectors because it has three dimensions/features/explanatory variables/predictors (there are many names indeed) which are rooms, toilets, and size.\n",
        "\n",
        "#### What if I have more house?\n",
        "\n",
        "You can easily represent this as a **matrices** like this:\n",
        "\n",
        "$$X = \\begin{pmatrix}\n",
        "4 & 2\\\\\n",
        "2 & 1\\\\\n",
        "10.2 & 4 \\\\\n",
        "\\end{pmatrix}$$\n",
        "\n",
        "Here we have second house with 2 rooms, 1 toilet, and size of 4$m^2$.   Three things can be observed:\n",
        "- When represented as matrices, each sample/record/observations (many names again!) is represented as columns, while the dimensions/features are represented as rows. ***(Note: in implementation, sometimes it can be reversed, so read the API carefully)***\n",
        "- Matrices are often using UPPERCASE, and since what I have here is something that can be used to predict, we often called it X (big X), or the independent variables/explanatory variables/features/dimensions....\n",
        "- N here is 2, and N is often used to mean \"number of samples/observations/record\"\n",
        "\n",
        "Normally, X has a shape of m features x n samples with the following structure:\n",
        "\n",
        "The number located in the $i^{th}$ row, and $j^{th}$ column of a matrix $X$ is sometimes noted $X_{i,j}$ or $X_{ij}$:\n",
        "\n",
        "$$X = \\begin{bmatrix}\n",
        "  x_{1,1} & x_{1,2} & x_{1,3} & \\cdots & x_{1,n}\\\\\n",
        "  x_{2,1} & x_{2,2} & x_{2,3} & \\cdots & x_{2,n}\\\\\n",
        "  x_{3,1} & x_{3,2} & x_{3,3} & \\cdots & x_{3,n}\\\\\n",
        "  \\vdots & \\vdots & \\vdots & \\ddots & \\vdots \\\\\n",
        "  x_{m,1} & x_{m,2} & x_{m,3} & \\cdots & x_{m,n}\\\\\n",
        "\\end{bmatrix}$$\n",
        "\n",
        "#### What some common operations you can do with matrices/vectors?\n",
        "\n",
        "Vectors/matrices are so convenient because they allow quick operation across all observations:\n",
        "\n",
        "##### Scalar multiplication\n",
        "\n",
        "Let's say I want to multiply all my values by 3, I can do like this:\n",
        "\n",
        "$$ 3 X =\n",
        "\\begin{bmatrix}\n",
        "  3 \\times 4 & 3 \\times 2  \\\\\n",
        "  3 \\times 2 & 3 \\times 1  \\\\\n",
        "  3 \\times 10.2 & 3 \\times 4 \\\\\n",
        "\\end{bmatrix}$$\n",
        "\n",
        "We called this 3 \"scalar\" and often is lowercase and is often represented by some mathematical symbol like lambda, alpha, gamma like this:\n",
        "\n",
        "$$ \\alpha = 3  $$\n",
        "or\n",
        "$$ \\lambda = 3 $$\n",
        "or\n",
        "$$ \\gamma = 3 $$\n",
        "\n",
        "##### Dot product\n",
        "\n",
        "What if I want to multiply rooms by 2, toilets by 0.5, and size by 1 and add them together?\n",
        "\n",
        "You can do a dot product with a vector like this:\n",
        "\n",
        "$$X^T\\beta =\n",
        "    \\begin{bmatrix} 4 & 2 & 10.2 \\\\ 2 & 1 & 4 \\end{bmatrix}\n",
        "    \\begin{bmatrix} 2 \\\\\n",
        "                    0.5\\\\\n",
        "                    1\n",
        "    \\end{bmatrix} =\n",
        "    \\begin{bmatrix}\n",
        "      4 \\times 2 & + & 2 \\times 0.5 & + & 10.2 \\times 1 \\\\\n",
        "      2 \\times 2 & + & 1 \\times 0.5 & + & 4 \\times 1 \\\\\n",
        "    \\end{bmatrix}$$\n",
        "\n",
        "Something important to observe:\n",
        "\n",
        "- Notice that I transpose X first.  The transpose of a matrix $M$ is a matrix noted $M^T$\n",
        "- The reason I transpose X first so that X can be dotted with $\\beta$. X can only be dotted with $\\beta$ only if number of columns in X is same as number of rows in $\\beta$.   This is a very important observation.   Typically, in python, we describe $X^T$ shape of data in the form (2, 3) which means (2 number of samples, 3 features).  Similarly, we can describe $\\beta$ shape as (3, ) which means 3 rows and 1 columns (can be 1 or nothing - this is a slightly unintuitive). **$X^T$ can only be dotted if (2, 3) @ (3, ) the $X^T$ columns matches $\\beta$ rows.  The resultings shape is (2, ) which is ($X^T$ rows, $\\beta$ columns).  Similarly, if our $\\beta$ is of shape (3, 1), then $X^T @ \\beta$ will be of shape (2, 1)**\n",
        "- You probably are bashing me why I keep calling $\\beta$.  The reason is that $\\beta$ is a common mathematical symbol for **weights**.  Why $\\beta$?....I don't know...I am not a mathematician but I guess it's likely because the first people who perform this operation called it \"beta\".\n",
        "- The dot product of two vectors $\\textbf{u}$ and $\\textbf{v}$ is noted $\\textbf{u} \\cdot \\textbf{v}$, or sometimes $⟨\\textbf{u}|\\textbf{v}⟩$ or $(\\textbf{u}|\\textbf{v})$, and it is defined as:\n",
        "\n",
        "$$\\textbf{u} \\cdot \\textbf{v} = \\left \\Vert \\textbf{u} \\right \\| \\times \\left \\Vert \\textbf{v} \\right \\| \\times cos(\\theta)$$\n",
        "\n",
        "  where $\\theta$ is the angle between $\\textbf{u}$ and $\\textbf{v}$.\n",
        "\n",
        "  Another way to calculate the dot product is:\n",
        "\n",
        "$$\\textbf{u} \\cdot \\textbf{v} = \\sum_i{\\textbf{u}_i \\times \\textbf{v}_i}$$\n",
        "\n",
        "##### Why dot product\n",
        "\n",
        "Why dot product?  Actually dot product is a useful way to perform a linear combinations of weights.  Ok, probably I am talking some difficult term again, let me explain.\n",
        "\n",
        "Let's say that house 1 has a price of 10 baht, and house 2 has a price of 5 baht, ok?  I have a third house with 3 rooms, 2 toilets, 15$m^2$, what will the price of this third house?\n",
        "\n",
        "To answer, we can actually do like this.  We called price as $y$ commonly known as target/label/dependent variables which are something we want to predict and has a shape of (N, ) or (N, 1).   In our case, since we have y for two houses, our y will have a shape of (2, ) and can be written as:\n",
        "\n",
        "$$y = \\begin{pmatrix}\n",
        "10 \\\\\n",
        "5 \\\\\n",
        "\\end{pmatrix}$$\n",
        "\n",
        "What I want to know, is the relationship between rooms, toilets, and size with price, like this:\n",
        "\n",
        "$$X^T\\beta =\n",
        "    \\begin{bmatrix} 4 & 2 & 10.2 \\\\ 2 & 1 & 4 \\end{bmatrix}\n",
        "    \\begin{bmatrix} ? \\\\\n",
        "                    ?\\\\\n",
        "                    ?\n",
        "    \\end{bmatrix} =\n",
        "    \\begin{pmatrix}\n",
        "10 \\\\\n",
        "5 \\\\\n",
        "\\end{pmatrix}$$\n",
        "\n",
        "Why do we want to know this ? or the $\\beta$.  You will know soon or you probably already can guess. Using my manual eyeballing, let's say our $\\beta$ is\n",
        "\n",
        "$$\\begin{bmatrix} 1 \\\\\n",
        "                1 \\\\\n",
        "                0.4\n",
        "\\end{bmatrix}$$\n",
        "\n",
        "Thus:\n",
        "\n",
        "$$X^T\\beta =\n",
        "    \\begin{bmatrix} 4 & 2 & 10.2 \\\\ 2 & 1 & 4 \\end{bmatrix}\n",
        "    \\begin{bmatrix} 1 \\\\\n",
        "                    1\\\\\n",
        "                    0.4\n",
        "    \\end{bmatrix} =\n",
        "    \\begin{bmatrix}\n",
        "      4 \\times 1 & + & 2 \\times 1 & + & 10.2 \\times 0.2 \\\\\n",
        "      2 \\times 1 & + & 1 \\times 1 & + & 4 \\times 0.2 \\\\\n",
        "    \\end{bmatrix} =\n",
        "    \\begin{pmatrix}\n",
        "        10.08 \\\\\n",
        "        4.6 \\\\\n",
        "    \\end{pmatrix}\n",
        "$$\n",
        "\n",
        "What do you think?  Is my $\\beta$ ok?  Hmm...a lot of errors.  We commonly depict the predicted y using $\\hat{y}$ and the actual y using $y$.  The errors can be commonly calculated using\n",
        "\n",
        "$$ \\frac{\\sum_{i=1}^{n} (y_{i} - \\hat{y_{i}})^2}{N} $$  \n",
        "\n",
        "which is\n",
        "\n",
        "$$ \\frac{(10.08 - 10)^2 + (4.6 - 4)^2}{N} = \\frac{0.3664}{N} = \\frac{0.3664}{2} = 0.1832 $$\n",
        "\n",
        "We called this 0.1832 as **Mean squared errors (MSE)**.  Why square?  Simply so that errors will be positive, also bigger errors were emphasized.  One more big reason is because the derivatives can be easily found.  But let's talk more about this later in this course.\n",
        "\n",
        "But the good thing is that because we find the $\\beta$ already, you now can predict the third house price like this:\n",
        "\n",
        "$$x_{3}\\beta =\n",
        "    \\begin{bmatrix} 3 & 2 & 15 \\end{bmatrix}\n",
        "    \\begin{bmatrix} 1 \\\\\n",
        "                    1\\\\\n",
        "                    0.4\n",
        "    \\end{bmatrix} =\n",
        "    \\begin{bmatrix}\n",
        "      3 \\times 1 & + & 2 \\times 1 & + & 15 \\times 0.4 \\\\\n",
        "    \\end{bmatrix} =\n",
        "    \\begin{pmatrix}\n",
        "        11\n",
        "    \\end{pmatrix}\n",
        "$$\n",
        "\n",
        "Is that accurate?  I don't know!  But that's the basis how prediction/machine learning starts working....But the main purpose here is to show you that why we love vectors, and why python (specifically numpy) is used with the mindset of vectors.  Isn't it amazing?  Imagine a list of house, with one dot product and we can get all the predicted values.\n",
        "\n",
        "By the way, I use $x_{3}$; small x represents each sample, and 3 here means sample 3."
      ],
      "metadata": {
        "id": "hPrqfdXqsa7b"
      }
    },
    {
      "cell_type": "markdown",
      "source": [
        "# Python & Vectors"
      ],
      "metadata": {
        "id": "8Xi7nuagrWkx"
      }
    },
    {
      "cell_type": "markdown",
      "source": [
        "Lets continue the house example. Let's say I have a house with 4 rooms, 2 toilets, 10.2$m^2$.   This can be represent as a vector like this:"
      ],
      "metadata": {
        "id": "Tp0VNjzEtd8o"
      }
    },
    {
      "cell_type": "code",
      "execution_count": null,
      "metadata": {
        "id": "POOeCn1SIjOq",
        "colab": {
          "base_uri": "https://localhost:8080/"
        },
        "outputId": "f2a5eb88-d485-41dd-93b9-bda79038e8bf"
      },
      "outputs": [
        {
          "output_type": "stream",
          "name": "stdout",
          "text": [
            "[ 4.   2.  10.2]\n",
            "(3,)\n"
          ]
        }
      ],
      "source": [
        "import numpy as np\n",
        "house = np.array([4, 2, 10.2])\n",
        "print(house)\n",
        "print(house.shape)"
      ]
    },
    {
      "cell_type": "markdown",
      "source": [
        "So now make it a Matrix"
      ],
      "metadata": {
        "id": "Oj5oLlUgtrjb"
      }
    },
    {
      "cell_type": "code",
      "source": [
        "X = np.array([\n",
        "    [4, 2],\n",
        "    [2, 1],\n",
        "    [10.2, 4]\n",
        "])\n",
        "print(X)\n",
        "print(X.shape) # m = row, n = column"
      ],
      "metadata": {
        "colab": {
          "base_uri": "https://localhost:8080/"
        },
        "id": "cAqPtAXWtRhZ",
        "outputId": "b1bdd8d7-d666-4e8b-c8f3-6c14efb63662"
      },
      "execution_count": null,
      "outputs": [
        {
          "output_type": "stream",
          "name": "stdout",
          "text": [
            "[[ 4.   2. ]\n",
            " [ 2.   1. ]\n",
            " [10.2  4. ]]\n",
            "(3, 2)\n"
          ]
        }
      ]
    },
    {
      "cell_type": "markdown",
      "source": [
        "Our second house was 1 room, 1 toilet, 0.4$m^2$"
      ],
      "metadata": {
        "id": "lpOCRIxqtyW2"
      }
    },
    {
      "cell_type": "code",
      "source": [
        "b = np.array([1, 1, 0.4])\n",
        "print(b)\n",
        "print(b.shape)"
      ],
      "metadata": {
        "colab": {
          "base_uri": "https://localhost:8080/"
        },
        "id": "dj7F_z_stSO_",
        "outputId": "54f45b2b-d03b-4b18-aa95-fc52af9ef0b0"
      },
      "execution_count": null,
      "outputs": [
        {
          "output_type": "stream",
          "name": "stdout",
          "text": [
            "[1.  1.  0.4]\n",
            "(3,)\n"
          ]
        }
      ]
    },
    {
      "cell_type": "markdown",
      "source": [
        "now lets try dot multiplication in python. Remember * this is normal multiplication, you can't use it for dot multiplication"
      ],
      "metadata": {
        "id": "5T9pKjQit-MU"
      }
    },
    {
      "cell_type": "code",
      "source": [
        "print(np.dot(X.T, b))\n",
        "\n",
        "print(X.T.dot(b))\n",
        "\n",
        "print(X.T @ b)\n",
        "print((X.T @ b).shape)  #if our actual y is (2, ), then we let w to be (n_features, )"
      ],
      "metadata": {
        "colab": {
          "base_uri": "https://localhost:8080/"
        },
        "id": "bHzCM6eHtXoo",
        "outputId": "e4b885f2-cad6-424c-ce11-941b94fc54ab"
      },
      "execution_count": null,
      "outputs": [
        {
          "output_type": "stream",
          "name": "stdout",
          "text": [
            "[10.08  4.6 ]\n",
            "[10.08  4.6 ]\n",
            "[10.08  4.6 ]\n",
            "(2,)\n"
          ]
        }
      ]
    },
    {
      "cell_type": "markdown",
      "source": [],
      "metadata": {
        "id": "BCFNvjTktL3z"
      }
    }
  ]
}